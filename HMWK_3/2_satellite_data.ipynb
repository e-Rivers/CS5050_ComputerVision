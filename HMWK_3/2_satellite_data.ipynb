{
 "cells": [
  {
   "cell_type": "markdown",
   "metadata": {},
   "source": [
    "# "
   ]
  },
  {
   "cell_type": "code",
   "execution_count": 4,
   "metadata": {},
   "outputs": [
    {
     "ename": "IndexError",
     "evalue": "too many indices for array: array is 1-dimensional, but 2 were indexed",
     "output_type": "error",
     "traceback": [
      "\u001b[0;31m---------------------------------------------------------------------------\u001b[0m",
      "\u001b[0;31mIndexError\u001b[0m                                Traceback (most recent call last)",
      "Cell \u001b[0;32mIn[4], line 36\u001b[0m\n\u001b[1;32m     34\u001b[0m t_pvals \u001b[38;5;241m=\u001b[39m []\n\u001b[1;32m     35\u001b[0m \u001b[38;5;28;01mfor\u001b[39;00m label \u001b[38;5;129;01min\u001b[39;00m np\u001b[38;5;241m.\u001b[39munique(y_train):\n\u001b[0;32m---> 36\u001b[0m     group \u001b[38;5;241m=\u001b[39m \u001b[43mfeature\u001b[49m\u001b[43m[\u001b[49m\u001b[43my_train\u001b[49m\u001b[43m \u001b[49m\u001b[38;5;241;43m==\u001b[39;49m\u001b[43m \u001b[49m\u001b[43mlabel\u001b[49m\u001b[43m]\u001b[49m\n\u001b[1;32m     37\u001b[0m     others \u001b[38;5;241m=\u001b[39m feature[y_train \u001b[38;5;241m!=\u001b[39m label]\n\u001b[1;32m     38\u001b[0m     t_stat, t_pval \u001b[38;5;241m=\u001b[39m ttest_ind(group, others)\n",
      "\u001b[0;31mIndexError\u001b[0m: too many indices for array: array is 1-dimensional, but 2 were indexed"
     ]
    }
   ],
   "source": [
    "# Step 1: Load and Preprocess Data\n",
    "from ucimlrepo import fetch_ucirepo\n",
    "import pandas as pd\n",
    "from sklearn.model_selection import train_test_split\n",
    "from sklearn.preprocessing import StandardScaler\n",
    "\n",
    "# Fetch the dataset\n",
    "statlog_landsat_satellite = fetch_ucirepo(id=146) \n",
    "  \n",
    "# data (as pandas dataframes) \n",
    "X = statlog_landsat_satellite.data.features \n",
    "y = statlog_landsat_satellite.data.targets \n",
    "\n",
    "# Split the data\n",
    "X_train, X_test, y_train, y_test = train_test_split(X, y, test_size=0.3, random_state=42)\n",
    "\n",
    "# Standardize the features\n",
    "scaler = StandardScaler()\n",
    "X_train = scaler.fit_transform(X_train)\n",
    "X_test = scaler.transform(X_test)\n",
    "\n",
    "# Step 2: Statistical Feature Selection\n",
    "from scipy.stats import ttest_ind, ks_2samp\n",
    "from sklearn.metrics import roc_auc_score\n",
    "import numpy as np\n",
    "from statsmodels.stats.multitest import multipletests\n",
    "\n"
   ]
  },
  {
   "cell_type": "code",
   "execution_count": 8,
   "metadata": {},
   "outputs": [
    {
     "name": "stdout",
     "output_type": "stream",
     "text": [
      "[]\n"
     ]
    },
    {
     "ename": "IndexError",
     "evalue": "too many indices for array: array is 1-dimensional, but 2 were indexed",
     "output_type": "error",
     "traceback": [
      "\u001b[0;31m---------------------------------------------------------------------------\u001b[0m",
      "\u001b[0;31mIndexError\u001b[0m                                Traceback (most recent call last)",
      "Cell \u001b[0;32mIn[8], line 11\u001b[0m\n\u001b[1;32m      8\u001b[0m \u001b[38;5;28;01mfor\u001b[39;00m label \u001b[38;5;129;01min\u001b[39;00m np\u001b[38;5;241m.\u001b[39munique(y_train):\n\u001b[1;32m      9\u001b[0m     \u001b[38;5;28mprint\u001b[39m(feature[\u001b[38;5;28;01mFalse\u001b[39;00m])\n\u001b[0;32m---> 11\u001b[0m     group \u001b[38;5;241m=\u001b[39m \u001b[43mfeature\u001b[49m\u001b[43m[\u001b[49m\u001b[43my_train\u001b[49m\u001b[43m \u001b[49m\u001b[38;5;241;43m==\u001b[39;49m\u001b[43m \u001b[49m\u001b[43mlabel\u001b[49m\u001b[43m]\u001b[49m\n\u001b[1;32m     12\u001b[0m     others \u001b[38;5;241m=\u001b[39m feature[y_train \u001b[38;5;241m!=\u001b[39m label]\n\u001b[1;32m     13\u001b[0m     t_stat, t_pval \u001b[38;5;241m=\u001b[39m ttest_ind(group, others)\n",
      "\u001b[0;31mIndexError\u001b[0m: too many indices for array: array is 1-dimensional, but 2 were indexed"
     ]
    }
   ],
   "source": [
    "# Initialize lists for statistical metrics\n",
    "t_values, ks_values, roc_auc_values = [], [], []\n",
    "\n",
    "for i in range(X_train.shape[1]):\n",
    "    feature = X_train[:, i]\n",
    "    # One-vs-Others t-test\n",
    "    t_pvals = []\n",
    "    for label in np.unique(y_train):        \n",
    "        group = feature[y_train == label]\n",
    "        others = feature[y_train != label]\n",
    "        t_stat, t_pval = ttest_ind(group, others)\n",
    "        t_pvals.append(t_pval)\n",
    "    t_values.append(np.mean(t_pvals))\n",
    "\n",
    "    # One-vs-Others KS test\n",
    "    ks_pvals = []\n",
    "    for label in np.unique(y_train):\n",
    "        group = feature[y_train == label]\n",
    "        others = feature[y_train != label]\n",
    "        ks_stat, ks_pval = ks_2samp(group, others)\n",
    "        ks_pvals.append(ks_pval)\n",
    "    ks_values.append(np.mean(ks_pvals))\n",
    "\n",
    "    # One-vs-Others ROC AUC\n",
    "    try:\n",
    "        roc_auc = roc_auc_score((y_train == label).astype(int), feature)\n",
    "    except:\n",
    "        roc_auc = 0.5  # if score calculation fails\n",
    "    roc_auc_values.append(roc_auc)\n",
    "\n",
    "# FDR Adjustment\n",
    "_, t_fdr = multipletests(t_values, method='fdr_bh')[:2]\n",
    "_, ks_fdr = multipletests(ks_values, method='fdr_bh')[:2]\n",
    "\n",
    "# Step 3: Heuristic Feature Selection (using Recursive Feature Elimination with Random Forest)\n",
    "from sklearn.ensemble import RandomForestClassifier\n",
    "from sklearn.feature_selection import RFE\n",
    "\n",
    "rf = RandomForestClassifier(random_state=42)\n",
    "rfe = RFE(estimator=rf, n_features_to_select=10)\n",
    "rfe.fit(X_train, y_train)\n",
    "rfe_ranking = rfe.ranking_\n",
    "\n",
    "# Step 4: Principal Component Analysis (PCA)\n",
    "from sklearn.decomposition import PCA\n",
    "\n",
    "pca = PCA(n_components=0.95)\n",
    "X_train_pca = pca.fit_transform(X_train)\n",
    "X_test_pca = pca.transform(X_test)\n",
    "print(f\"Number of PCA components explaining 95% variance: {pca.n_components_}\")\n",
    "\n",
    "# Step 5: Linear Discriminant Analysis (LDA)\n",
    "from sklearn.discriminant_analysis import LinearDiscriminantAnalysis\n",
    "from sklearn.metrics import accuracy_score, classification_report\n",
    "\n",
    "lda = LinearDiscriminantAnalysis()\n",
    "lda.fit(X_train_pca, y_train)\n",
    "y_pred = lda.predict(X_test_pca)\n",
    "\n",
    "# Report Performance\n",
    "print(\"LDA Classification Report:\")\n",
    "print(classification_report(y_test, y_pred))\n"
   ]
  },
  {
   "cell_type": "code",
   "execution_count": null,
   "metadata": {},
   "outputs": [],
   "source": [
    "print"
   ]
  },
  {
   "cell_type": "code",
   "execution_count": 3,
   "metadata": {},
   "outputs": [
    {
     "name": "stdout",
     "output_type": "stream",
     "text": [
      "Collecting statsmodels\n",
      "  Downloading statsmodels-0.14.4-cp312-cp312-macosx_11_0_arm64.whl.metadata (9.2 kB)\n",
      "Requirement already satisfied: numpy<3,>=1.22.3 in /Users/cdr_c/anaconda3/envs/my_env/lib/python3.12/site-packages (from statsmodels) (1.26.4)\n",
      "Requirement already satisfied: scipy!=1.9.2,>=1.8 in /Users/cdr_c/anaconda3/envs/my_env/lib/python3.12/site-packages (from statsmodels) (1.14.1)\n",
      "Requirement already satisfied: pandas!=2.1.0,>=1.4 in /Users/cdr_c/anaconda3/envs/my_env/lib/python3.12/site-packages (from statsmodels) (2.2.3)\n",
      "Collecting patsy>=0.5.6 (from statsmodels)\n",
      "  Downloading patsy-1.0.1-py2.py3-none-any.whl.metadata (3.3 kB)\n",
      "Requirement already satisfied: packaging>=21.3 in /Users/cdr_c/anaconda3/envs/my_env/lib/python3.12/site-packages (from statsmodels) (24.1)\n",
      "Requirement already satisfied: python-dateutil>=2.8.2 in /Users/cdr_c/anaconda3/envs/my_env/lib/python3.12/site-packages (from pandas!=2.1.0,>=1.4->statsmodels) (2.9.0)\n",
      "Requirement already satisfied: pytz>=2020.1 in /Users/cdr_c/anaconda3/envs/my_env/lib/python3.12/site-packages (from pandas!=2.1.0,>=1.4->statsmodels) (2024.2)\n",
      "Requirement already satisfied: tzdata>=2022.7 in /Users/cdr_c/anaconda3/envs/my_env/lib/python3.12/site-packages (from pandas!=2.1.0,>=1.4->statsmodels) (2024.2)\n",
      "Requirement already satisfied: six>=1.5 in /Users/cdr_c/anaconda3/envs/my_env/lib/python3.12/site-packages (from python-dateutil>=2.8.2->pandas!=2.1.0,>=1.4->statsmodels) (1.16.0)\n",
      "Downloading statsmodels-0.14.4-cp312-cp312-macosx_11_0_arm64.whl (9.9 MB)\n",
      "\u001b[2K   \u001b[90m━━━━━━━━━━━━━━━━━━━━━━━━━━━━━━━━━━━━━━━━\u001b[0m \u001b[32m9.9/9.9 MB\u001b[0m \u001b[31m12.5 MB/s\u001b[0m eta \u001b[36m0:00:00\u001b[0m00:01\u001b[0m00:01\u001b[0m\n",
      "\u001b[?25hDownloading patsy-1.0.1-py2.py3-none-any.whl (232 kB)\n",
      "\u001b[2K   \u001b[90m━━━━━━━━━━━━━━━━━━━━━━━━━━━━━━━━━━━━━━━━\u001b[0m \u001b[32m232.9/232.9 kB\u001b[0m \u001b[31m15.7 MB/s\u001b[0m eta \u001b[36m0:00:00\u001b[0m\n",
      "\u001b[?25hInstalling collected packages: patsy, statsmodels\n",
      "Successfully installed patsy-1.0.1 statsmodels-0.14.4\n"
     ]
    }
   ],
   "source": [
    "!pip install statsmodels\n"
   ]
  }
 ],
 "metadata": {
  "kernelspec": {
   "display_name": "my_env",
   "language": "python",
   "name": "python3"
  },
  "language_info": {
   "codemirror_mode": {
    "name": "ipython",
    "version": 3
   },
   "file_extension": ".py",
   "mimetype": "text/x-python",
   "name": "python",
   "nbconvert_exporter": "python",
   "pygments_lexer": "ipython3",
   "version": "3.12.3"
  }
 },
 "nbformat": 4,
 "nbformat_minor": 2
}
