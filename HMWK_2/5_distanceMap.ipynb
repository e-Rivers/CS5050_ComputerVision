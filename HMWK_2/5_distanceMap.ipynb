{
 "cells": [
  {
   "cell_type": "markdown",
   "metadata": {},
   "source": [
    "# Distance map to all the object boundaries"
   ]
  },
  {
   "cell_type": "code",
   "execution_count": 2,
   "metadata": {},
   "outputs": [],
   "source": [
    "from __future__ import print_function\n",
    "import cv2 as cv\n",
    "import numpy as np\n",
    "import argparse\n",
    "import random as rng\n",
    "import matplotlib.pyplot as plt\n",
    "rng.seed(12345)"
   ]
  },
  {
   "cell_type": "code",
   "execution_count": null,
   "metadata": {},
   "outputs": [],
   "source": []
  },
  {
   "cell_type": "code",
   "execution_count": 16,
   "metadata": {},
   "outputs": [
    {
     "name": "stdout",
     "output_type": "stream",
     "text": [
      "Unique pixel values in the image: [  0 255]\n",
      "Unique pixel values in the image: [  0. 255.]\n",
      "Image data type: float32\n",
      "Image data type: uint8\n"
     ]
    },
    {
     "ename": "error",
     "evalue": "OpenCV(4.10.0) /Users/xperience/GHA-Actions-OpenCV/_work/opencv-python/opencv-python/opencv/modules/imgproc/src/distransform.cpp:752: error: (-215:Assertion failed) src.type() == CV_8UC1 in function 'distanceTransform'\n",
     "output_type": "error",
     "traceback": [
      "\u001b[0;31m---------------------------------------------------------------------------\u001b[0m",
      "\u001b[0;31merror\u001b[0m                                     Traceback (most recent call last)",
      "Cell \u001b[0;32mIn[16], line 19\u001b[0m\n\u001b[1;32m     15\u001b[0m     result \u001b[38;5;241m=\u001b[39m result\u001b[38;5;241m.\u001b[39mastype(\u001b[38;5;124m'\u001b[39m\u001b[38;5;124muint8\u001b[39m\u001b[38;5;124m'\u001b[39m)\n\u001b[1;32m     16\u001b[0m \u001b[38;5;28mprint\u001b[39m(\u001b[38;5;124mf\u001b[39m\u001b[38;5;124m\"\u001b[39m\u001b[38;5;124mImage data type: \u001b[39m\u001b[38;5;132;01m{\u001b[39;00mresult\u001b[38;5;241m.\u001b[39mdtype\u001b[38;5;132;01m}\u001b[39;00m\u001b[38;5;124m\"\u001b[39m)\n\u001b[0;32m---> 19\u001b[0m dist \u001b[38;5;241m=\u001b[39m \u001b[43mcv\u001b[49m\u001b[38;5;241;43m.\u001b[39;49m\u001b[43mdistanceTransform\u001b[49m\u001b[43m(\u001b[49m\u001b[43mresult\u001b[49m\u001b[43m,\u001b[49m\u001b[43m \u001b[49m\u001b[43mcv\u001b[49m\u001b[38;5;241;43m.\u001b[39;49m\u001b[43mDIST_L2\u001b[49m\u001b[43m,\u001b[49m\u001b[43m \u001b[49m\u001b[38;5;241;43m3\u001b[39;49m\u001b[43m)\u001b[49m\n\u001b[1;32m     21\u001b[0m cv\u001b[38;5;241m.\u001b[39mnormalize(dist, dist, \u001b[38;5;241m0\u001b[39m, \u001b[38;5;241m1.0\u001b[39m, cv\u001b[38;5;241m.\u001b[39mNORM_MINMAX)\n\u001b[1;32m     22\u001b[0m plt\u001b[38;5;241m.\u001b[39mimshow(dist)\n",
      "\u001b[0;31merror\u001b[0m: OpenCV(4.10.0) /Users/xperience/GHA-Actions-OpenCV/_work/opencv-python/opencv-python/opencv/modules/imgproc/src/distransform.cpp:752: error: (-215:Assertion failed) src.type() == CV_8UC1 in function 'distanceTransform'\n"
     ]
    }
   ],
   "source": [
    "\n",
    "result = cv.imread(\"result.png\")\n",
    "unique_values = np.unique(result)\n",
    "\n",
    "print(f\"Unique pixel values in the image: {unique_values}\")\n",
    "\n",
    "result = result.astype(np.float32)\n",
    "\n",
    "# Step 2: Check the unique pixel values in the image\n",
    "unique_values = np.unique(result)\n",
    "print(\"Unique pixel values in the image:\", unique_values)\n",
    "\n",
    "print(f\"Image data type: {result.dtype}\")\n",
    "\n",
    "if result.dtype != 'uint8':\n",
    "    result = result.astype('uint8')\n",
    "print(f\"Image data type: {result.dtype}\")\n",
    "\n",
    "\n",
    "dist = cv.distanceTransform(result, cv.DIST_L2, 3)\n",
    "\n",
    "cv.normalize(dist, dist, 0, 1.0, cv.NORM_MINMAX)\n",
    "plt.imshow(dist)"
   ]
  }
 ],
 "metadata": {
  "kernelspec": {
   "display_name": "my_env",
   "language": "python",
   "name": "python3"
  },
  "language_info": {
   "codemirror_mode": {
    "name": "ipython",
    "version": 3
   },
   "file_extension": ".py",
   "mimetype": "text/x-python",
   "name": "python",
   "nbconvert_exporter": "python",
   "pygments_lexer": "ipython3",
   "version": "3.12.3"
  }
 },
 "nbformat": 4,
 "nbformat_minor": 2
}
